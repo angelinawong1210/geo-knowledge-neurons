{
  "cells": [
    {
      "cell_type": "code",
      "execution_count": null,
      "metadata": {
        "colab": {
          "base_uri": "https://localhost:8080/"
        },
        "id": "fqQ2AKhYf9GZ",
        "outputId": "21927d11-ceeb-4a75-a488-0d624d01f818"
      },
      "outputs": [],
      "source": [
        "!pip install folium geopy pandas"
      ]
    },
    {
      "cell_type": "code",
      "execution_count": null,
      "metadata": {
        "id": "qK-LF2-LgBe7"
      },
      "outputs": [],
      "source": [
        "import pandas as pd\n",
        "import folium\n",
        "from geopy.geocoders import Nominatim\n",
        "from geopy.exc import GeocoderTimedOut"
      ]
    },
    {
      "cell_type": "code",
      "execution_count": null,
      "metadata": {
        "id": "Cq3whpfmgC5G"
      },
      "outputs": [],
      "source": [
        "file_path = 'geodata.csv'\n",
        "df = pd.read_csv(file_path)"
      ]
    },
    {
      "cell_type": "code",
      "execution_count": null,
      "metadata": {
        "id": "0T10D9_tgIdw"
      },
      "outputs": [],
      "source": [
        "geolocator = Nominatim(user_agent=\"geo_visualization\")"
      ]
    },
    {
      "cell_type": "code",
      "execution_count": null,
      "metadata": {
        "id": "nxo7lNWigO59"
      },
      "outputs": [],
      "source": [
        "def get_coordinates(location):\n",
        "    try:\n",
        "        loc = geolocator.geocode(location, timeout=10)\n",
        "        if loc:\n",
        "            return loc.latitude, loc.longitude\n",
        "        else:\n",
        "            return None, None\n",
        "    except GeocoderTimedOut:\n",
        "        return None, None"
      ]
    },
    {
      "cell_type": "code",
      "execution_count": null,
      "metadata": {
        "id": "_kDbfSKwgYS4"
      },
      "outputs": [],
      "source": [
        "df[['latitude', 'longitude']] = df['location'].apply(lambda x: pd.Series(get_coordinates(x)))"
      ]
    },
    {
      "cell_type": "code",
      "execution_count": null,
      "metadata": {
        "id": "-eaiF4_8gb8l"
      },
      "outputs": [],
      "source": [
        "df = df.dropna(subset=['latitude', 'longitude'])"
      ]
    },
    {
      "cell_type": "code",
      "execution_count": null,
      "metadata": {
        "id": "QSQaPGxMhJR2"
      },
      "outputs": [],
      "source": [
        "# Create a folium map centered at a general location\n",
        "m = folium.Map(location=[10, 10], zoom_start=2)\n",
        "\n",
        "# Add markers to the map\n",
        "for _, row in df.iterrows():\n",
        "    gpt_text_length = len(eval(row['gpt_text'])) if isinstance(row['gpt_text'], str) else len(row['gpt_text'])\n",
        "    gpt_text_length = gpt_text_length + 1\n",
        "    folium.Marker(\n",
        "        location=[row['latitude'], row['longitude']],\n",
        "        popup=f\"<b>{row['location']}</b><b> No. of entries :</b> {gpt_text_length} \",\n",
        "        tooltip=row['location']\n",
        "    ).add_to(m)"
      ]
    },
    {
      "cell_type": "code",
      "execution_count": null,
      "metadata": {
        "colab": {
          "base_uri": "https://localhost:8080/",
          "height": 1000
        },
        "id": "neF4_etKhNSU",
        "outputId": "6be4f535-f3d3-4f4c-a3c0-ca285e617b49"
      },
      "outputs": [],
      "source": [
        "m"
      ]
    }
  ],
  "metadata": {
    "colab": {
      "provenance": []
    },
    "kernelspec": {
      "display_name": "Python 3",
      "name": "python3"
    },
    "language_info": {
      "name": "python"
    }
  },
  "nbformat": 4,
  "nbformat_minor": 0
}
